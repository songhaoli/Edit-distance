{
 "cells": [
  {
   "cell_type": "raw",
   "metadata": {},
   "source": [
    "Levenshtein distance\n",
    "\n",
    "Given two words word1 and word2, find the minimum number of operations required to convert word1 to word2.\n",
    "You have the following 3 operations permitted on a word:\n",
    "Insert a character\n",
    "Delete a character\n",
    "Replace a character"
   ]
  },
  {
   "cell_type": "raw",
   "metadata": {},
   "source": [
    "Example 1:\n",
    "Input: word1 = \"horse\", word2 = \"ros\"\n",
    "Output: 3\n",
    "\n",
    "Explanation: \n",
    "horse -> rorse (replace 'h' with 'r')\n",
    "rorse -> rose (remove 'r')\n",
    "rose -> ros (remove 'e')\n",
    "\n",
    "\n",
    "Example 2:\n",
    "Input: word1 = \"intention\", word2 = \"execution\"\n",
    "Output: 5\n",
    "\n",
    "Explanation: \n",
    "intention -> inention (remove 't')\n",
    "inention -> enention (replace 'i' with 'e')\n",
    "enention -> exention (replace 'n' with 'x')\n",
    "exention -> exection (replace 'n' with 'c')\n",
    "exection -> execution (insert 'u')"
   ]
  },
  {
   "cell_type": "code",
   "execution_count": 1,
   "metadata": {},
   "outputs": [],
   "source": [
    "def minDistance(word1: str, word2: str) -> int:\n",
    "    m = len(word1)\n",
    "    n = len(word2)\n",
    "    \n",
    "    v0 = [None]*(n+1)\n",
    "    v1 = [None]*(n+1)\n",
    "\n",
    "    for i in range(0,n+1):\n",
    "        v0[i] = i\n",
    "\n",
    "    for i in range(0, m):\n",
    "        v1[0] = i + 1\n",
    "        for j in range(0,n):\n",
    "            del_cost = v0[j + 1] + 1\n",
    "            ins_cost = v1[j] + 1\n",
    "            if word1[i] == word2[j]:\n",
    "                sub_cost = v0[j]\n",
    "            else:\n",
    "                sub_cost = v0[j] + 1;\n",
    "        \n",
    "            v1[j + 1] = min(del_cost, ins_cost, sub_cost)\n",
    "        v0, v1 = v1, v0\n",
    "    return v0[n]"
   ]
  },
  {
   "cell_type": "code",
   "execution_count": 2,
   "metadata": {},
   "outputs": [
    {
     "data": {
      "text/plain": [
       "3"
      ]
     },
     "execution_count": 2,
     "metadata": {},
     "output_type": "execute_result"
    }
   ],
   "source": [
    "word1 = 'horse'\n",
    "word2 = 'ros'\n",
    "minDistance(word1, word2)"
   ]
  }
 ],
 "metadata": {
  "kernelspec": {
   "display_name": "Python 3",
   "language": "python",
   "name": "python3"
  },
  "language_info": {
   "codemirror_mode": {
    "name": "ipython",
    "version": 3
   },
   "file_extension": ".py",
   "mimetype": "text/x-python",
   "name": "python",
   "nbconvert_exporter": "python",
   "pygments_lexer": "ipython3",
   "version": "3.7.1"
  }
 },
 "nbformat": 4,
 "nbformat_minor": 2
}
